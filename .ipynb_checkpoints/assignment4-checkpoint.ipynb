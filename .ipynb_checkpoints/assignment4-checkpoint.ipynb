{
 "cells": [
  {
   "cell_type": "markdown",
   "id": "5b5a5973-1054-4278-8441-69ff7840f39c",
   "metadata": {},
   "source": [
    "# CSCI 4435/5435: Text Mining & Natural Language Processing\n",
    "## Assignment 4: Recurrent Neural Networks\n",
    "### Student: Miguel Guirao\n",
    "### Aggie ID: 800699208"
   ]
  },
  {
   "cell_type": "markdown",
   "id": "4a253bda-5f7b-4777-a700-3768d0ee97bd",
   "metadata": {},
   "source": [
    "## Summary\n",
    "- Import al requiered libraries\n",
    "- Load the dataset and perform data pre-processing"
   ]
  },
  {
   "cell_type": "code",
   "execution_count": 25,
   "id": "083693cd-1b85-4248-96d4-de85ff8e87fe",
   "metadata": {},
   "outputs": [],
   "source": [
    "# import all required libraries\n",
    "import json\n",
    "import pandas as pd\n",
    "import numpy as np\n",
    "import time\n",
    "import matplotlib.pyplot as plt\n",
    "from nltk.tokenize import SpaceTokenizer\n",
    "import gensim.downloader as api\n",
    "import gensim\n",
    "from collections import Counter\n",
    "\n",
    "from sklearn.preprocessing import OneHotEncoder\n",
    "from sklearn.preprocessing import LabelEncoder\n",
    "from sklearn.model_selection import train_test_split\n",
    "from sklearn.metrics import accuracy_score\n",
    "\n",
    "import torch\n",
    "import torch.nn as nn\n",
    "import torch.nn.functional as F\n",
    "import torch.optim as optim\n",
    "from torch.utils.data import Dataset, DataLoader\n",
    "from torch.utils.tensorboard import SummaryWriter"
   ]
  },
  {
   "cell_type": "code",
   "execution_count": 2,
   "id": "a7846cdf-43ed-4395-8f41-6bdb4aa18a46",
   "metadata": {},
   "outputs": [
    {
     "name": "stdout",
     "output_type": "stream",
     "text": [
      "Python version: Python 3.9.21\n",
      "PyTorch version: 2.6.0+cu124\n",
      "Gensim version: 4.3.3\n",
      "Total GPU devices available for use: 1\n",
      "CUDA device name: NVIDIA RTX A2000 12GB\n",
      "Using compute device: cuda:0.\n"
     ]
    }
   ],
   "source": [
    "# Let's setup TensorBoard\n",
    "writer = SummaryWriter()\n",
    "\n",
    "# Let's verify some libraries versions\n",
    "# Let's check the versions of our main libraries\n",
    "pyversion = !python --version\n",
    "print(f\"Python version: {pyversion[0]}\\nPyTorch version: {torch.__version__}\\nGensim version: {gensim.__version__}\")\n",
    "\n",
    "# USING GPU\n",
    "device = torch.device(\"cuda:0\" if torch.cuda.is_available() else \"cpu\")\n",
    "device_name = torch.cuda.get_device_name()  \n",
    "print(f\"Total GPU devices available for use: {torch.cuda.device_count()}\")\n",
    "print(\"CUDA device name:\", device_name) \n",
    "print(f\"Using compute device: {device}.\")"
   ]
  },
  {
   "cell_type": "markdown",
   "id": "36667b48-8ada-45b5-9e85-042476027289",
   "metadata": {},
   "source": [
    "## Load the dataset and perform pre-processing"
   ]
  },
  {
   "cell_type": "code",
   "execution_count": 43,
   "id": "9709928a-4e48-461b-89cc-e0d0b6a2d7a2",
   "metadata": {},
   "outputs": [
    {
     "data": {
      "text/html": [
       "<div>\n",
       "<style scoped>\n",
       "    .dataframe tbody tr th:only-of-type {\n",
       "        vertical-align: middle;\n",
       "    }\n",
       "\n",
       "    .dataframe tbody tr th {\n",
       "        vertical-align: top;\n",
       "    }\n",
       "\n",
       "    .dataframe thead th {\n",
       "        text-align: right;\n",
       "    }\n",
       "</style>\n",
       "<table border=\"1\" class=\"dataframe\">\n",
       "  <thead>\n",
       "    <tr style=\"text-align: right;\">\n",
       "      <th></th>\n",
       "      <th>category</th>\n",
       "      <th>headline</th>\n",
       "      <th>authors</th>\n",
       "      <th>link</th>\n",
       "      <th>short_description</th>\n",
       "      <th>date</th>\n",
       "    </tr>\n",
       "  </thead>\n",
       "  <tbody>\n",
       "    <tr>\n",
       "      <th>0</th>\n",
       "      <td>CRIME</td>\n",
       "      <td>There Were 2 Mass Shootings In Texas Last Week...</td>\n",
       "      <td>Melissa Jeltsen</td>\n",
       "      <td>https://www.huffingtonpost.com/entry/texas-ama...</td>\n",
       "      <td>She left her husband. He killed their children...</td>\n",
       "      <td>2018-05-26</td>\n",
       "    </tr>\n",
       "    <tr>\n",
       "      <th>1</th>\n",
       "      <td>ENTERTAINMENT</td>\n",
       "      <td>Will Smith Joins Diplo And Nicky Jam For The 2...</td>\n",
       "      <td>Andy McDonald</td>\n",
       "      <td>https://www.huffingtonpost.com/entry/will-smit...</td>\n",
       "      <td>Of course it has a song.</td>\n",
       "      <td>2018-05-26</td>\n",
       "    </tr>\n",
       "    <tr>\n",
       "      <th>2</th>\n",
       "      <td>ENTERTAINMENT</td>\n",
       "      <td>Hugh Grant Marries For The First Time At Age 57</td>\n",
       "      <td>Ron Dicker</td>\n",
       "      <td>https://www.huffingtonpost.com/entry/hugh-gran...</td>\n",
       "      <td>The actor and his longtime girlfriend Anna Ebe...</td>\n",
       "      <td>2018-05-26</td>\n",
       "    </tr>\n",
       "    <tr>\n",
       "      <th>3</th>\n",
       "      <td>ENTERTAINMENT</td>\n",
       "      <td>Jim Carrey Blasts 'Castrato' Adam Schiff And D...</td>\n",
       "      <td>Ron Dicker</td>\n",
       "      <td>https://www.huffingtonpost.com/entry/jim-carre...</td>\n",
       "      <td>The actor gives Dems an ass-kicking for not fi...</td>\n",
       "      <td>2018-05-26</td>\n",
       "    </tr>\n",
       "    <tr>\n",
       "      <th>4</th>\n",
       "      <td>ENTERTAINMENT</td>\n",
       "      <td>Julianna Margulies Uses Donald Trump Poop Bags...</td>\n",
       "      <td>Ron Dicker</td>\n",
       "      <td>https://www.huffingtonpost.com/entry/julianna-...</td>\n",
       "      <td>The \"Dietland\" actress said using the bags is ...</td>\n",
       "      <td>2018-05-26</td>\n",
       "    </tr>\n",
       "  </tbody>\n",
       "</table>\n",
       "</div>"
      ],
      "text/plain": [
       "        category                                           headline  \\\n",
       "0          CRIME  There Were 2 Mass Shootings In Texas Last Week...   \n",
       "1  ENTERTAINMENT  Will Smith Joins Diplo And Nicky Jam For The 2...   \n",
       "2  ENTERTAINMENT    Hugh Grant Marries For The First Time At Age 57   \n",
       "3  ENTERTAINMENT  Jim Carrey Blasts 'Castrato' Adam Schiff And D...   \n",
       "4  ENTERTAINMENT  Julianna Margulies Uses Donald Trump Poop Bags...   \n",
       "\n",
       "           authors                                               link  \\\n",
       "0  Melissa Jeltsen  https://www.huffingtonpost.com/entry/texas-ama...   \n",
       "1    Andy McDonald  https://www.huffingtonpost.com/entry/will-smit...   \n",
       "2       Ron Dicker  https://www.huffingtonpost.com/entry/hugh-gran...   \n",
       "3       Ron Dicker  https://www.huffingtonpost.com/entry/jim-carre...   \n",
       "4       Ron Dicker  https://www.huffingtonpost.com/entry/julianna-...   \n",
       "\n",
       "                                   short_description       date  \n",
       "0  She left her husband. He killed their children... 2018-05-26  \n",
       "1                           Of course it has a song. 2018-05-26  \n",
       "2  The actor and his longtime girlfriend Anna Ebe... 2018-05-26  \n",
       "3  The actor gives Dems an ass-kicking for not fi... 2018-05-26  \n",
       "4  The \"Dietland\" actress said using the bags is ... 2018-05-26  "
      ]
     },
     "execution_count": 43,
     "metadata": {},
     "output_type": "execute_result"
    }
   ],
   "source": [
    "# https://pandas.pydata.org/docs/reference/api/pandas.read_json.html\n",
    "data = pd.read_json(\"News_Category_Dataset_v2.json\", lines=True) # Read the file as a json object per line.\n",
    "data.head()"
   ]
  },
  {
   "cell_type": "code",
   "execution_count": 44,
   "id": "bb965dff-2c94-4e89-8827-83649d80739b",
   "metadata": {},
   "outputs": [
    {
     "data": {
      "text/html": [
       "<div>\n",
       "<style scoped>\n",
       "    .dataframe tbody tr th:only-of-type {\n",
       "        vertical-align: middle;\n",
       "    }\n",
       "\n",
       "    .dataframe tbody tr th {\n",
       "        vertical-align: top;\n",
       "    }\n",
       "\n",
       "    .dataframe thead th {\n",
       "        text-align: right;\n",
       "    }\n",
       "</style>\n",
       "<table border=\"1\" class=\"dataframe\">\n",
       "  <thead>\n",
       "    <tr style=\"text-align: right;\">\n",
       "      <th></th>\n",
       "      <th>short_description</th>\n",
       "    </tr>\n",
       "  </thead>\n",
       "  <tbody>\n",
       "    <tr>\n",
       "      <th>0</th>\n",
       "      <td>She left her husband. He killed their children...</td>\n",
       "    </tr>\n",
       "    <tr>\n",
       "      <th>1</th>\n",
       "      <td>Of course it has a song.</td>\n",
       "    </tr>\n",
       "    <tr>\n",
       "      <th>2</th>\n",
       "      <td>The actor and his longtime girlfriend Anna Ebe...</td>\n",
       "    </tr>\n",
       "    <tr>\n",
       "      <th>3</th>\n",
       "      <td>The actor gives Dems an ass-kicking for not fi...</td>\n",
       "    </tr>\n",
       "    <tr>\n",
       "      <th>4</th>\n",
       "      <td>The \"Dietland\" actress said using the bags is ...</td>\n",
       "    </tr>\n",
       "  </tbody>\n",
       "</table>\n",
       "</div>"
      ],
      "text/plain": [
       "                                   short_description\n",
       "0  She left her husband. He killed their children...\n",
       "1                           Of course it has a song.\n",
       "2  The actor and his longtime girlfriend Anna Ebe...\n",
       "3  The actor gives Dems an ass-kicking for not fi...\n",
       "4  The \"Dietland\" actress said using the bags is ..."
      ]
     },
     "execution_count": 44,
     "metadata": {},
     "output_type": "execute_result"
    }
   ],
   "source": [
    "# Drop unneeded features\n",
    "dataset = data.copy()\n",
    "dataset.drop(labels=['category', 'headline', 'authors', 'link', 'date'], axis=1, inplace=True)\n",
    "dataset.head()"
   ]
  },
  {
   "cell_type": "code",
   "execution_count": 38,
   "id": "7b5a3d5b-67fc-492c-b211-537961d868d3",
   "metadata": {},
   "outputs": [
    {
     "data": {
      "text/html": [
       "<div>\n",
       "<style scoped>\n",
       "    .dataframe tbody tr th:only-of-type {\n",
       "        vertical-align: middle;\n",
       "    }\n",
       "\n",
       "    .dataframe tbody tr th {\n",
       "        vertical-align: top;\n",
       "    }\n",
       "\n",
       "    .dataframe thead th {\n",
       "        text-align: right;\n",
       "    }\n",
       "</style>\n",
       "<table border=\"1\" class=\"dataframe\">\n",
       "  <thead>\n",
       "    <tr style=\"text-align: right;\">\n",
       "      <th></th>\n",
       "      <th>short_description</th>\n",
       "    </tr>\n",
       "  </thead>\n",
       "  <tbody>\n",
       "    <tr>\n",
       "      <th>0</th>\n",
       "      <td>she left her husband he killed their children ...</td>\n",
       "    </tr>\n",
       "    <tr>\n",
       "      <th>1</th>\n",
       "      <td>of course it has a song</td>\n",
       "    </tr>\n",
       "    <tr>\n",
       "      <th>2</th>\n",
       "      <td>the actor and his longtime girlfriend anna ebe...</td>\n",
       "    </tr>\n",
       "    <tr>\n",
       "      <th>3</th>\n",
       "      <td>the actor gives dems an ass kicking for not fi...</td>\n",
       "    </tr>\n",
       "    <tr>\n",
       "      <th>4</th>\n",
       "      <td>the dietland actress said using the bags is a ...</td>\n",
       "    </tr>\n",
       "  </tbody>\n",
       "</table>\n",
       "</div>"
      ],
      "text/plain": [
       "                                   short_description\n",
       "0  she left her husband he killed their children ...\n",
       "1                            of course it has a song\n",
       "2  the actor and his longtime girlfriend anna ebe...\n",
       "3  the actor gives dems an ass kicking for not fi...\n",
       "4  the dietland actress said using the bags is a ..."
      ]
     },
     "execution_count": 38,
     "metadata": {},
     "output_type": "execute_result"
    }
   ],
   "source": [
    "dataset.loc[:, 'short_description'] = dataset['short_description'].str.lower()\n",
    "dataset.loc[:, 'short_description'] = dataset['short_description'].str.replace(\"-\", \" \", regex=True)\n",
    "dataset.loc[:, 'short_description'] = dataset['short_description'].str.replace(r\"[^'\\&\\w\\s]\", \"\", regex=True)\n",
    "dataset.loc[:, 'short_description'] = dataset['short_description'].str.strip()\n",
    "dataset.head()"
   ]
  },
  {
   "cell_type": "code",
   "execution_count": 6,
   "id": "77062b32-a6cd-4303-b690-885b961e0189",
   "metadata": {},
   "outputs": [
    {
     "data": {
      "text/plain": [
       "0         she left her husband he killed their children ...\n",
       "1                                   of course it has a song\n",
       "2         the actor and his longtime girlfriend anna ebe...\n",
       "3         the actor gives dems an ass kicking for not fi...\n",
       "4         the dietland actress said using the bags is a ...\n",
       "                                ...                        \n",
       "200848    verizon wireless and at&t are already promotin...\n",
       "200849    afterward azarenka more effusive with the pres...\n",
       "200850    leading up to super bowl xlvi the most talked ...\n",
       "200851    correction an earlier version of this story in...\n",
       "200852    the five time all star center tore into his te...\n",
       "Name: short_description, Length: 200853, dtype: object"
      ]
     },
     "execution_count": 6,
     "metadata": {},
     "output_type": "execute_result"
    }
   ],
   "source": [
    "train_data = dataset[\"short_description\"]\n",
    "train_data"
   ]
  },
  {
   "cell_type": "code",
   "execution_count": 7,
   "id": "d7244dd3-8259-41f1-ac3c-2d9bbd7afab5",
   "metadata": {},
   "outputs": [
    {
     "data": {
      "text/plain": [
       "['<start> she left her husband he killed their children just another day in america <end>',\n",
       " '<start> of course it has a song <end>',\n",
       " '<start> the actor and his longtime girlfriend anna eberstein tied the knot in a civil ceremony <end>',\n",
       " '<start> the actor gives dems an ass kicking for not fighting hard enough against donald trump <end>',\n",
       " '<start> the dietland actress said using the bags is a really cathartic therapeutic moment <end>']"
      ]
     },
     "execution_count": 7,
     "metadata": {},
     "output_type": "execute_result"
    }
   ],
   "source": [
    "train_data = [\" \".join([\"<start>\", x, \"<end>\"]) for x in train_data]\n",
    "# print first row\n",
    "train_data[:5]"
   ]
  },
  {
   "cell_type": "markdown",
   "id": "853bd742-71ad-4323-9cb3-c25e0753c667",
   "metadata": {},
   "source": [
    "## Tokenization"
   ]
  },
  {
   "cell_type": "code",
   "execution_count": 8,
   "id": "158b9860-656d-4be2-929f-f0b67df58c68",
   "metadata": {},
   "outputs": [],
   "source": [
    "###\n",
    "# define Vocab\n",
    "###\n",
    "class Vocab:\n",
    "    def __init__(self, list_of_sentence, tokenization, special_token, max_tokens=None):\n",
    "        # count vocab frequency\n",
    "        vocab_freq = {}\n",
    "        tokens = tokenization(list_of_sentence)\n",
    "        for t in tokens:\n",
    "            for vocab in t:\n",
    "                if vocab not in vocab_freq:\n",
    "                    vocab_freq[vocab] = 0 \n",
    "                vocab_freq[vocab] += 1\n",
    "        # sort by frequency\n",
    "        vocab_freq = {k: v for k, v in sorted(vocab_freq.items(), key=lambda i: i[1], reverse=True)}\n",
    "        # create vocab list\n",
    "        self.vocabs = [special_token] + list(vocab_freq.keys())\n",
    "        if max_tokens:\n",
    "            self.vocabs = self.vocabs[:max_tokens]\n",
    "        self.stoi = {v: i for i, v in enumerate(self.vocabs)}\n",
    "\n",
    "    def _get_tokens(self, list_of_sentence):\n",
    "        for sentence in list_of_sentence:\n",
    "            tokens = tokenizer.tokenize(sentence)\n",
    "            yield tokens\n",
    "\n",
    "    def get_itos(self):\n",
    "        return self.vocabs\n",
    "\n",
    "    def get_stoi(self):\n",
    "        return self.stoi\n",
    "\n",
    "    def append_token(self, token):\n",
    "        self.vocabs.append(token)\n",
    "        self.stoi = {v: i for i, v in enumerate(self.vocabs)}\n",
    "\n",
    "    def __call__(self, list_of_tokens):\n",
    "        def get_token_index(token):\n",
    "            if token in self.stoi:\n",
    "                return self.stoi[token]\n",
    "            else:\n",
    "                return 0\n",
    "        return [get_token_index(t) for t in list_of_tokens]\n",
    "\n",
    "    def __len__(self):\n",
    "        return len(self.vocabs)"
   ]
  },
  {
   "cell_type": "code",
   "execution_count": 9,
   "id": "fe8eb7ca-2480-4a24-96ff-13d0c9c391c3",
   "metadata": {},
   "outputs": [],
   "source": [
    "###\n",
    "# generate Vocab\n",
    "###\n",
    "max_word = 50000\n",
    "\n",
    "# create tokenizer\n",
    "tokenizer = SpaceTokenizer()\n",
    "\n",
    "# define tokenization function\n",
    "def yield_tokens(data):\n",
    "    for text in data:\n",
    "        tokens = tokenizer.tokenize(text)\n",
    "        yield tokens\n",
    "\n",
    "# build vocabulary list, of size max_word\n",
    "vocab = Vocab(train_data, tokenization=yield_tokens, special_token=\"<unk>\", max_tokens=max_word)"
   ]
  },
  {
   "cell_type": "code",
   "execution_count": 10,
   "id": "24a910cf-ee45-4eee-989e-0d01c3e865a6",
   "metadata": {},
   "outputs": [
    {
     "name": "stdout",
     "output_type": "stream",
     "text": [
      "pad_index: 50000, vocab size: 50001\n"
     ]
    }
   ],
   "source": [
    "pad_index = vocab.__len__()\n",
    "vocab.append_token(\"<pad>\")\n",
    "print(f\"pad_index: {pad_index}, vocab size: {len(vocab.vocabs)}\")"
   ]
  },
  {
   "cell_type": "code",
   "execution_count": 11,
   "id": "46c375a9-3ead-4f03-a420-0881db9b1eb6",
   "metadata": {},
   "outputs": [
    {
     "name": "stdout",
     "output_type": "stream",
     "text": [
      "The number of token index is 50001.\n",
      "The padded index is 50000.\n"
     ]
    }
   ],
   "source": [
    "itos = vocab.get_itos()\n",
    "stoi = vocab.get_stoi()\n",
    "# test\n",
    "print(\"The number of token index is {}.\".format(vocab.__len__()))\n",
    "print(\"The padded index is {}.\".format(stoi[\"<pad>\"]))"
   ]
  },
  {
   "cell_type": "code",
   "execution_count": 12,
   "id": "73c3c280-1d8f-4e70-8fc1-032ba2f34117",
   "metadata": {},
   "outputs": [],
   "source": [
    "max_seq_len = 256\n",
    "\n",
    "def collate_batch(batch):\n",
    "    label_list, feature_list = [], []\n",
    "    for text in batch:\n",
    "        # tokenize to a list of word's indices\n",
    "        tokens = vocab(tokenizer.tokenize(text))\n",
    "        # separate into features and labels\n",
    "        y = tokens[1:]\n",
    "        y.append(-100)\n",
    "        x = tokens\n",
    "        # limit length to max_seq_len\n",
    "        y = y[:max_seq_len]\n",
    "        x = x[:max_seq_len]\n",
    "        # pad features and labels\n",
    "        y += [-100] * (max_seq_len - len(y))\n",
    "        x += [pad_index] * (max_seq_len - len(x))\n",
    "        # add to list\n",
    "        label_list.append(y)\n",
    "        feature_list.append(x)\n",
    "    # convert to tensor\n",
    "    label_list = torch.tensor(label_list, dtype=torch.int64).to(device)\n",
    "    feature_list = torch.tensor(feature_list, dtype=torch.int64).to(device)\n",
    "    return label_list, feature_list\n",
    "\n",
    "dataloader = DataLoader(train_data, batch_size=32, shuffle=True, collate_fn=collate_batch)"
   ]
  },
  {
   "cell_type": "code",
   "execution_count": 13,
   "id": "02536b15-7c9a-4c3f-aa24-a636b858ee98",
   "metadata": {},
   "outputs": [
    {
     "name": "stdout",
     "output_type": "stream",
     "text": [
      "label shape in batch : torch.Size([32, 256])\n",
      "feature shape in batch : torch.Size([32, 256])\n",
      "\n",
      "***** label sample *****\n",
      "tensor([    3, 13512,    36, 17628,   159,  6736,     9,     3,  6820,     7,\n",
      "         2126,   364,    45,    58,    43,   345,    72, 18602,     0,     2,\n",
      "         -100,  -100,  -100,  -100,  -100,  -100,  -100,  -100,  -100,  -100,\n",
      "         -100,  -100,  -100,  -100,  -100,  -100,  -100,  -100,  -100,  -100,\n",
      "         -100,  -100,  -100,  -100,  -100,  -100,  -100,  -100,  -100,  -100,\n",
      "         -100,  -100,  -100,  -100,  -100,  -100,  -100,  -100,  -100,  -100,\n",
      "         -100,  -100,  -100,  -100,  -100,  -100,  -100,  -100,  -100,  -100,\n",
      "         -100,  -100,  -100,  -100,  -100,  -100,  -100,  -100,  -100,  -100,\n",
      "         -100,  -100,  -100,  -100,  -100,  -100,  -100,  -100,  -100,  -100,\n",
      "         -100,  -100,  -100,  -100,  -100,  -100,  -100,  -100,  -100,  -100,\n",
      "         -100,  -100,  -100,  -100,  -100,  -100,  -100,  -100,  -100,  -100,\n",
      "         -100,  -100,  -100,  -100,  -100,  -100,  -100,  -100,  -100,  -100,\n",
      "         -100,  -100,  -100,  -100,  -100,  -100,  -100,  -100,  -100,  -100,\n",
      "         -100,  -100,  -100,  -100,  -100,  -100,  -100,  -100,  -100,  -100,\n",
      "         -100,  -100,  -100,  -100,  -100,  -100,  -100,  -100,  -100,  -100,\n",
      "         -100,  -100,  -100,  -100,  -100,  -100,  -100,  -100,  -100,  -100,\n",
      "         -100,  -100,  -100,  -100,  -100,  -100,  -100,  -100,  -100,  -100,\n",
      "         -100,  -100,  -100,  -100,  -100,  -100,  -100,  -100,  -100,  -100,\n",
      "         -100,  -100,  -100,  -100,  -100,  -100,  -100,  -100,  -100,  -100,\n",
      "         -100,  -100,  -100,  -100,  -100,  -100,  -100,  -100,  -100,  -100,\n",
      "         -100,  -100,  -100,  -100,  -100,  -100,  -100,  -100,  -100,  -100,\n",
      "         -100,  -100,  -100,  -100,  -100,  -100,  -100,  -100,  -100,  -100,\n",
      "         -100,  -100,  -100,  -100,  -100,  -100,  -100,  -100,  -100,  -100,\n",
      "         -100,  -100,  -100,  -100,  -100,  -100,  -100,  -100,  -100,  -100,\n",
      "         -100,  -100,  -100,  -100,  -100,  -100,  -100,  -100,  -100,  -100,\n",
      "         -100,  -100,  -100,  -100,  -100,  -100], device='cuda:0') \n",
      "\n",
      "***** features sample *****\n",
      "tensor([    1,     3, 13512,    36, 17628,   159,  6736,     9,     3,  6820,\n",
      "            7,  2126,   364,    45,    58,    43,   345,    72, 18602,     0,\n",
      "            2, 50000, 50000, 50000, 50000, 50000, 50000, 50000, 50000, 50000,\n",
      "        50000, 50000, 50000, 50000, 50000, 50000, 50000, 50000, 50000, 50000,\n",
      "        50000, 50000, 50000, 50000, 50000, 50000, 50000, 50000, 50000, 50000,\n",
      "        50000, 50000, 50000, 50000, 50000, 50000, 50000, 50000, 50000, 50000,\n",
      "        50000, 50000, 50000, 50000, 50000, 50000, 50000, 50000, 50000, 50000,\n",
      "        50000, 50000, 50000, 50000, 50000, 50000, 50000, 50000, 50000, 50000,\n",
      "        50000, 50000, 50000, 50000, 50000, 50000, 50000, 50000, 50000, 50000,\n",
      "        50000, 50000, 50000, 50000, 50000, 50000, 50000, 50000, 50000, 50000,\n",
      "        50000, 50000, 50000, 50000, 50000, 50000, 50000, 50000, 50000, 50000,\n",
      "        50000, 50000, 50000, 50000, 50000, 50000, 50000, 50000, 50000, 50000,\n",
      "        50000, 50000, 50000, 50000, 50000, 50000, 50000, 50000, 50000, 50000,\n",
      "        50000, 50000, 50000, 50000, 50000, 50000, 50000, 50000, 50000, 50000,\n",
      "        50000, 50000, 50000, 50000, 50000, 50000, 50000, 50000, 50000, 50000,\n",
      "        50000, 50000, 50000, 50000, 50000, 50000, 50000, 50000, 50000, 50000,\n",
      "        50000, 50000, 50000, 50000, 50000, 50000, 50000, 50000, 50000, 50000,\n",
      "        50000, 50000, 50000, 50000, 50000, 50000, 50000, 50000, 50000, 50000,\n",
      "        50000, 50000, 50000, 50000, 50000, 50000, 50000, 50000, 50000, 50000,\n",
      "        50000, 50000, 50000, 50000, 50000, 50000, 50000, 50000, 50000, 50000,\n",
      "        50000, 50000, 50000, 50000, 50000, 50000, 50000, 50000, 50000, 50000,\n",
      "        50000, 50000, 50000, 50000, 50000, 50000, 50000, 50000, 50000, 50000,\n",
      "        50000, 50000, 50000, 50000, 50000, 50000, 50000, 50000, 50000, 50000,\n",
      "        50000, 50000, 50000, 50000, 50000, 50000, 50000, 50000, 50000, 50000,\n",
      "        50000, 50000, 50000, 50000, 50000, 50000, 50000, 50000, 50000, 50000,\n",
      "        50000, 50000, 50000, 50000, 50000, 50000], device='cuda:0')\n"
     ]
    }
   ],
   "source": [
    "# test\n",
    "for labels, features in dataloader:\n",
    "    break\n",
    "\n",
    "print(\"label shape in batch : {}\".format(labels.size()))\n",
    "print(\"feature shape in batch : {}\\n\".format(features.size()))\n",
    "print(\"***** label sample *****\")\n",
    "print(labels[0], \"\\n\")\n",
    "print(\"***** features sample *****\")\n",
    "print(features[0])"
   ]
  },
  {
   "cell_type": "markdown",
   "id": "99efbe61-9ee5-4da3-a5a3-c1e301384f64",
   "metadata": {},
   "source": [
    "# Task 1: Language Modeling"
   ]
  },
  {
   "cell_type": "markdown",
   "id": "94374b86-6ee2-4eba-8760-833ad4d5b44d",
   "metadata": {},
   "source": [
    "## RNN"
   ]
  },
  {
   "cell_type": "code",
   "execution_count": 14,
   "id": "f796d1d2-c11c-4bcf-acb9-16f44a25f662",
   "metadata": {},
   "outputs": [],
   "source": [
    "embedding_dim = 64\n",
    "rnn_units = 512\n",
    "\n",
    "class SimpleRnnModel(nn.Module):\n",
    "    def __init__(self, vocab_size, seq_len, embedding_dim, rnn_units, padding_idx):\n",
    "        super().__init__()\n",
    "\n",
    "        self.seq_len = seq_len\n",
    "        self.padding_idx = padding_idx\n",
    "\n",
    "        self.embedding = nn.Embedding(\n",
    "            vocab_size,\n",
    "            embedding_dim,\n",
    "            padding_idx=padding_idx,\n",
    "        )\n",
    "        self.rnn = nn.RNN(\n",
    "            input_size=embedding_dim,\n",
    "            hidden_size=rnn_units,\n",
    "            num_layers=1,\n",
    "            batch_first=True,\n",
    "        )\n",
    "        self.classify = nn.Linear(rnn_units, vocab_size)\n",
    "\n",
    "    def forward(self, inputs, states=None, return_final_state=False):\n",
    "        # embedding\n",
    "        #   --> (batch_size, seq_len, embedding_dim)\n",
    "        outs = self.embedding(inputs)\n",
    "        # build \"lengths\" property to pack inputs (see above)\n",
    "        lengths = (inputs != self.padding_idx).int().sum(dim=1, keepdim=False)\n",
    "        # pack inputs for RNN\n",
    "        packed_inputs = torch.nn.utils.rnn.pack_padded_sequence(\n",
    "            outs,\n",
    "            lengths.cpu(),\n",
    "            batch_first=True,\n",
    "            enforce_sorted=False,\n",
    "        )\n",
    "        # apply RNN\n",
    "        if states is None:\n",
    "            packed_outs, final_state = self.rnn(packed_inputs)\n",
    "        else:\n",
    "            packed_outs, final_state = self.rnn(packed_inputs, states)\n",
    "        # unpack results\n",
    "        #   --> (batch_size, seq_len, rnn_units)\n",
    "        outs, _ = torch.nn.utils.rnn.pad_packed_sequence(\n",
    "            packed_outs,\n",
    "            batch_first=True,\n",
    "            padding_value=0.0,\n",
    "            total_length=self.seq_len,\n",
    "        )\n",
    "        # apply feed-forward to classify\n",
    "        #   --> (batch_size, seq_len, vocab_size)\n",
    "        logits = self.classify(outs)\n",
    "        # return results\n",
    "        if return_final_state:\n",
    "            return logits, final_state  # This is used in prediction\n",
    "        else:\n",
    "            return logits               # This is used in training"
   ]
  },
  {
   "cell_type": "code",
   "execution_count": 15,
   "id": "98a77e19-53f4-42b7-be12-e3b5a1f577a0",
   "metadata": {},
   "outputs": [],
   "source": [
    "modelRNN = SimpleRnnModel(vocab_size=vocab.__len__(), seq_len=max_seq_len, embedding_dim=embedding_dim, rnn_units=rnn_units, padding_idx=pad_index).to(device)"
   ]
  },
  {
   "cell_type": "code",
   "execution_count": null,
   "id": "641aef55-c988-4f27-b7ce-554e2fd14fab",
   "metadata": {},
   "outputs": [
    {
     "name": "stdout",
     "output_type": "stream",
     "text": [
      "Epoch 1 - loss: 6.0539 - accuracy: 0.1259\n",
      "Epoch 2 - loss: 5.6817 - accuracy: 0.1772\n",
      "Epoch 3 - loss: 5.4586 - accuracy: 0.1673"
     ]
    }
   ],
   "source": [
    "num_epochs = 5\n",
    "torch.cuda.empty_cache()\n",
    "\n",
    "optimizer = torch.optim.AdamW(modelRNN.parameters(), lr=0.001)\n",
    "\n",
    "for epoch in range(num_epochs):\n",
    "    for labels, seqs in dataloader:\n",
    "        # optimize\n",
    "        optimizer.zero_grad()\n",
    "        logits = modelRNN(seqs)\n",
    "        loss = F.cross_entropy(logits.transpose(1,2), labels)\n",
    "        loss.backward()\n",
    "        optimizer.step()\n",
    "        # calculate accuracy\n",
    "        pred_labels = logits.argmax(dim=2)\n",
    "        num_correct = (pred_labels == labels).float().sum()\n",
    "        num_total = (labels != -100).float().sum()\n",
    "        accuracy = num_correct / num_total\n",
    "        print(\"Epoch {} - loss: {:2.4f} - accuracy: {:2.4f}\".format(epoch+1, loss.item(), accuracy), end=\"\\r\")\n",
    "    writer.add_scalar('Loss/train_rnn', loss.item(), epoch+1)\n",
    "    writer.add_scalar('Accuracy/train_rnn', accuracy, epoch+1)\n",
    "    torch.cuda.empty_cache()\n",
    "    print(\"\")\n",
    "\n",
    "torch.cuda.empty_cache()\n",
    "writer.flush()"
   ]
  },
  {
   "cell_type": "code",
   "execution_count": 17,
   "id": "d6fe28e5-e32d-4e9e-b8f3-3b46fcbee7ed",
   "metadata": {},
   "outputs": [],
   "source": [
    "writer.close()"
   ]
  },
  {
   "cell_type": "code",
   "execution_count": null,
   "id": "cecc9815-a8fd-48cb-a723-09f939c672b4",
   "metadata": {},
   "outputs": [],
   "source": [
    "start_index = stoi[\"<start>\"]\n",
    "end_index = stoi[\"<end>\"]\n",
    "max_output = 128\n",
    "\n",
    "def pred_output(sentence, progressive_output=True):\n",
    "    test_seq = vocab(tokenizer.tokenize(sentence))\n",
    "    test_seq.insert(0, start_index)\n",
    "    for loop in range(max_output):\n",
    "        input_tensor = torch.tensor([test_seq[-5:]], dtype=torch.int64).to(device)\n",
    "        pred_logits = model(input_tensor)\n",
    "        pred_index = pred_logits.argmax()\n",
    "        test_seq.append(pred_index.item())\n",
    "        if progressive_output:\n",
    "            for i in test_seq:\n",
    "                print(itos[i], end=\" \")\n",
    "            print(\"\\n\")\n",
    "        if pred_index.item() == end_index:\n",
    "            break\n",
    "    return test_seq\n",
    "\n",
    "generated_seq = pred_output(\"in the united states president\", progressive_output=False)\n",
    "for i in generated_seq:\n",
    "    print(itos[i], end=\" \")\n",
    "print(\"\\n\")"
   ]
  },
  {
   "cell_type": "markdown",
   "id": "9a4a29b4-150a-4b8d-b717-f96699d8e32d",
   "metadata": {},
   "source": [
    "# Task 2: Recurrent Neural Networks for Text Classification\n",
    "### We will train RNNs for classifying news categories."
   ]
  },
  {
   "cell_type": "code",
   "execution_count": 18,
   "id": "2e6ea2fe-62fc-4e65-8df7-6453ea3b2e0f",
   "metadata": {},
   "outputs": [],
   "source": [
    "# Load dataset\n",
    "def load_dataset(filename):\n",
    "    with open(filename, 'r') as f:\n",
    "        data = json.load(f)\n",
    "    return data"
   ]
  },
  {
   "cell_type": "markdown",
   "id": "c3fbeb35-2a74-4f36-83a5-e34beaf3a105",
   "metadata": {},
   "source": [
    "### (10 pts) We will use only the short_description (i.e., the abstract of the news article) and its category."
   ]
  },
  {
   "cell_type": "code",
   "execution_count": 28,
   "id": "3c96836c-f4d2-4911-8082-2af57264b774",
   "metadata": {},
   "outputs": [],
   "source": [
    "# Preprocess dataset\n",
    "def preprocess_data(data, max_words=5000, max_len=50):\n",
    "    texts = data['short_description'] #[item['headline'] for item in data]\n",
    "    labels = data['category'] #[item['category'] for item in data]\n",
    "    \n",
    "    # Encode labels\n",
    "    label_encoder = LabelEncoder()\n",
    "    labels = label_encoder.fit_transform(labels)\n",
    "    \n",
    "    # Tokenization and building vocabulary\n",
    "    word_counts = Counter()\n",
    "    for text in texts:\n",
    "        word_counts.update(text.lower().split())\n",
    "    \n",
    "    vocab = {word: idx + 1 for idx, (word, _) in enumerate(word_counts.most_common(max_words))}\n",
    "    \n",
    "    def encode_text(text):\n",
    "        return [vocab.get(word, 0) for word in text.lower().split()[:max_len]]\n",
    "    \n",
    "    texts = [encode_text(text) for text in texts]\n",
    "    texts = [text + [0] * (max_len - len(text)) if len(text) < max_len else text for text in texts]\n",
    "    \n",
    "    return np.array(texts), np.array(labels), label_encoder"
   ]
  },
  {
   "cell_type": "code",
   "execution_count": 20,
   "id": "857a0710-55fc-4249-9fdf-77df1caa4ef6",
   "metadata": {},
   "outputs": [],
   "source": [
    "# Create Dataset class\n",
    "class NewsDataset(Dataset):\n",
    "    def __init__(self, texts, labels):\n",
    "        self.texts = torch.tensor(texts, dtype=torch.long)\n",
    "        self.labels = torch.tensor(labels, dtype=torch.long)\n",
    "    \n",
    "    def __len__(self):\n",
    "        return len(self.texts)\n",
    "    \n",
    "    def __getitem__(self, idx):\n",
    "        return self.texts[idx], self.labels[idx]"
   ]
  },
  {
   "cell_type": "markdown",
   "id": "5968bc1a-3c48-4257-b376-e7a195fad46a",
   "metadata": {},
   "source": [
    "### (20 pts) Implement a simple RNN and an LSTM in PyTorch to classify the news categories."
   ]
  },
  {
   "cell_type": "code",
   "execution_count": 21,
   "id": "720773a1-238c-42a3-ac32-426f5aff81b5",
   "metadata": {},
   "outputs": [],
   "source": [
    "# Define RNN model\n",
    "class RNNClassifier(nn.Module):\n",
    "    def __init__(self, vocab_size, embed_dim, hidden_dim, num_classes):\n",
    "        super(RNNClassifier, self).__init__()\n",
    "        self.embedding = nn.Embedding(vocab_size, embed_dim)\n",
    "        self.rnn = nn.RNN(embed_dim, hidden_dim, batch_first=True)\n",
    "        self.fc = nn.Linear(hidden_dim, num_classes)\n",
    "    \n",
    "    def forward(self, x):\n",
    "        x = self.embedding(x)\n",
    "        _, h = self.rnn(x)\n",
    "        return self.fc(h.squeeze(0))\n",
    "\n",
    "# Define LSTM model\n",
    "class LSTMClassifier(nn.Module):\n",
    "    def __init__(self, vocab_size, embed_dim, hidden_dim, num_classes):\n",
    "        super(LSTMClassifier, self).__init__()\n",
    "        self.embedding = nn.Embedding(vocab_size, embed_dim)\n",
    "        self.lstm = nn.LSTM(embed_dim, hidden_dim, batch_first=True)\n",
    "        self.fc = nn.Linear(hidden_dim, num_classes)\n",
    "    \n",
    "    def forward(self, x):\n",
    "        x = self.embedding(x)\n",
    "        _, (h, _) = self.lstm(x)\n",
    "        return self.fc(h.squeeze(0))\n"
   ]
  },
  {
   "cell_type": "code",
   "execution_count": 22,
   "id": "0214645d-ad5a-47ff-8b34-48cab63963da",
   "metadata": {},
   "outputs": [],
   "source": [
    "# Training function\n",
    "def train_model(model, train_loader, criterion, optimizer, num_epochs=10):\n",
    "    model.train()\n",
    "    for epoch in range(num_epochs):\n",
    "        total_loss = 0\n",
    "        correct = 0\n",
    "        total = 0\n",
    "        for texts, labels in train_loader:\n",
    "            optimizer.zero_grad()\n",
    "            outputs = model(texts)\n",
    "            loss = criterion(outputs, labels)\n",
    "            loss.backward()\n",
    "            optimizer.step()\n",
    "            total_loss += loss.item()\n",
    "            _, predicted = torch.max(outputs, 1)\n",
    "            correct += (predicted == labels).sum().item()\n",
    "            total += labels.size(0)\n",
    "        accuracy = correct / total\n",
    "        print(f\"Epoch {epoch+1}/{num_epochs}, Loss: {total_loss/len(train_loader):.4f}, Accuracy: {accuracy:.4f}\")"
   ]
  },
  {
   "cell_type": "code",
   "execution_count": 23,
   "id": "ab5d5b8a-6a0c-4d27-bf7c-6fd250c65f44",
   "metadata": {},
   "outputs": [],
   "source": [
    "# Evaluation function\n",
    "def evaluate_model(model, test_loader):\n",
    "    model.eval()\n",
    "    correct = 0\n",
    "    total = 0\n",
    "    with torch.no_grad():\n",
    "        for texts, labels in test_loader:\n",
    "            outputs = model(texts)\n",
    "            _, predicted = torch.max(outputs, 1)\n",
    "            correct += (predicted == labels).sum().item()\n",
    "            total += labels.size(0)\n",
    "    accuracy = correct / total\n",
    "    print(f\"Test Accuracy: {accuracy:.4f}\")\n",
    "    return accuracy"
   ]
  },
  {
   "cell_type": "markdown",
   "id": "7efd1df0-cdaf-4f12-89a6-ba8862b2050f",
   "metadata": {},
   "source": [
    "### (10 pts) Split the dataset into training set (80%) and test set (20%)."
   ]
  },
  {
   "cell_type": "code",
   "execution_count": 50,
   "id": "1dab96ed-8cc7-4833-81cb-10a86f9b688c",
   "metadata": {},
   "outputs": [],
   "source": [
    "# Load and preprocess dataset\n",
    "#data = dataset.copy() #load_dataset('News_Category_Dataset_v2.json')\n",
    "texts, labels, label_encoder = preprocess_data(data)\n",
    "num_classes = len(label_encoder.classes_)\n",
    "\n",
    "# Split dataset\n",
    "train_texts, test_texts, train_labels, test_labels = train_test_split(texts, labels, test_size=0.2, random_state=42)\n",
    "\n",
    "train_dataset = NewsDataset(train_texts, train_labels)\n",
    "test_dataset = NewsDataset(test_texts, test_labels)\n",
    "train_loader = DataLoader(train_dataset, batch_size=96, shuffle=True) # <== HERE [64, 96]\n",
    "test_loader = DataLoader(test_dataset, batch_size=96, shuffle=True) # <== HERE [64, 96]\n",
    "\n",
    "# Define model, loss, and optimizer\n",
    "# Vary the batch size, the word embedding size and the number of hidden units to see their effects on the classifying performance.\n",
    "vocab_size = 5001  # Including padding\n",
    "embed_dim = 150 # <== HERE [100, 150]\n",
    "hidden_dim = 190 # <== HERE [128, 190]"
   ]
  },
  {
   "cell_type": "markdown",
   "id": "0b84265c-d9e5-489a-b693-218c4d47e5c3",
   "metadata": {},
   "source": [
    "### Train the model on the training set and report the training and testing accuracies. Use max_seq_len = 256."
   ]
  },
  {
   "cell_type": "code",
   "execution_count": 51,
   "id": "90973cd8-415b-498a-a04c-e61192a189f3",
   "metadata": {},
   "outputs": [
    {
     "name": "stdout",
     "output_type": "stream",
     "text": [
      "Epoch 1/10, Loss: 3.3015, Accuracy: 0.1663\n",
      "Epoch 2/10, Loss: 3.2909, Accuracy: 0.1679\n",
      "Epoch 3/10, Loss: 3.2888, Accuracy: 0.1680\n",
      "Epoch 4/10, Loss: 3.2883, Accuracy: 0.1678\n",
      "Epoch 5/10, Loss: 3.2872, Accuracy: 0.1686\n",
      "Epoch 6/10, Loss: 3.2794, Accuracy: 0.1710\n",
      "Epoch 7/10, Loss: 3.2758, Accuracy: 0.1722\n",
      "Epoch 8/10, Loss: 3.2699, Accuracy: 0.1733\n",
      "Epoch 9/10, Loss: 3.2645, Accuracy: 0.1754\n",
      "Epoch 10/10, Loss: 3.2565, Accuracy: 0.1777\n",
      "Test Accuracy: 0.1653\n"
     ]
    },
    {
     "data": {
      "text/plain": [
       "'\\n##### BASELINE RESULTS \\n{Batch size: 64, embedding size: 100 , # hidden units: 128}\\nEpoch 1/10, Loss: 3.2977, Accuracy: 0.1658\\nEpoch 2/10, Loss: 3.2916, Accuracy: 0.1663\\nEpoch 3/10, Loss: 3.2873, Accuracy: 0.1673\\nEpoch 4/10, Loss: 3.2841, Accuracy: 0.1688\\nEpoch 5/10, Loss: 3.2274, Accuracy: 0.1682\\nEpoch 6/10, Loss: 3.2693, Accuracy: 0.1701\\nEpoch 7/10, Loss: 3.2685, Accuracy: 0.1692\\nEpoch 8/10, Loss: 3.2614, Accuracy: 0.1690\\nEpoch 9/10, Loss: 3.2572, Accuracy: 0.1699\\nEpoch 10/10, Loss: 3.2716, Accuracy: 0.1706\\n\\nTest Accuracy: 0.1657\\n0.16569166811879216\\n\\n##### Vary the batch size, the word embedding size and the number of hidden units to see their effects on the classifying performance.\\n{Batch size: 96, embedding size: 150, # hidden units: 190}\\n'"
      ]
     },
     "execution_count": 51,
     "metadata": {},
     "output_type": "execute_result"
    }
   ],
   "source": [
    "# Train RNN model\n",
    "rnn_model = RNNClassifier(vocab_size, embed_dim, hidden_dim, num_classes).to(device)\n",
    "criterion = nn.CrossEntropyLoss()\n",
    "optimizer = optim.Adam(rnn_model.parameters(), lr=0.001)\n",
    "train_model(rnn_model, train_loader, criterion, optimizer)\n",
    "evaluate_model(rnn_model, test_loader)"
   ]
  },
  {
   "cell_type": "markdown",
   "id": "c7702152-0c9a-4be8-ac14-148265290f03",
   "metadata": {},
   "source": [
    "##### BASELINE RESULTS \n",
    "{Batch size: 64, embedding size: 100 , # hidden units: 128}\n",
    "Epoch 1/10, Loss: 3.2977, Accuracy: 0.1658\n",
    "Epoch 2/10, Loss: 3.2916, Accuracy: 0.1663\n",
    "Epoch 3/10, Loss: 3.2873, Accuracy: 0.1673\n",
    "Epoch 4/10, Loss: 3.2841, Accuracy: 0.1688\n",
    "Epoch 5/10, Loss: 3.2274, Accuracy: 0.1682\n",
    "Epoch 6/10, Loss: 3.2693, Accuracy: 0.1701\n",
    "Epoch 7/10, Loss: 3.2685, Accuracy: 0.1692\n",
    "Epoch 8/10, Loss: 3.2614, Accuracy: 0.1690\n",
    "Epoch 9/10, Loss: 3.2572, Accuracy: 0.1699\n",
    "Epoch 10/10, Loss: 3.2716, Accuracy: 0.1706\n",
    "\n",
    "Test Accuracy: 0.1657\n",
    "0.16569166811879216\n",
    "\n",
    "##### Vary the batch size, the word embedding size and the number of hidden units to see their effects on the classifying performance.\n",
    "{Batch size: 96, embedding size: 150, # hidden units: 190}\n",
    "Epoch 1/10, Loss: 3.3015, Accuracy: 0.1663\n",
    "Epoch 2/10, Loss: 3.2909, Accuracy: 0.1679\n",
    "Epoch 3/10, Loss: 3.2888, Accuracy: 0.1680\n",
    "Epoch 4/10, Loss: 3.2883, Accuracy: 0.1678\n",
    "Epoch 5/10, Loss: 3.2872, Accuracy: 0.1686\n",
    "Epoch 6/10, Loss: 3.2794, Accuracy: 0.1710\n",
    "Epoch 7/10, Loss: 3.2758, Accuracy: 0.1722\n",
    "Epoch 8/10, Loss: 3.2699, Accuracy: 0.1733\n",
    "Epoch 9/10, Loss: 3.2645, Accuracy: 0.1754\n",
    "Epoch 10/10, Loss: 3.2565, Accuracy: 0.1777\n",
    "Test Accuracy: 0.1653"
   ]
  },
  {
   "cell_type": "markdown",
   "id": "db62b54e-aab6-4af1-9a49-e4c3f9f64f87",
   "metadata": {},
   "source": [
    "### Train the model on the training set and report the training and testing accuracies. Use max_seq_len = 256."
   ]
  },
  {
   "cell_type": "code",
   "execution_count": 52,
   "id": "44551a82-f258-45dc-8c8a-5aa719b07b0b",
   "metadata": {},
   "outputs": [
    {
     "name": "stdout",
     "output_type": "stream",
     "text": [
      "Epoch 1/10, Loss: 2.9228, Accuracy: 0.2401\n",
      "Epoch 2/10, Loss: 2.4522, Accuracy: 0.3512\n",
      "Epoch 3/10, Loss: 2.2408, Accuracy: 0.4022\n",
      "Epoch 4/10, Loss: 2.1150, Accuracy: 0.4296\n",
      "Epoch 5/10, Loss: 2.0098, Accuracy: 0.4523\n",
      "Epoch 6/10, Loss: 1.9068, Accuracy: 0.4761\n",
      "Epoch 7/10, Loss: 1.8019, Accuracy: 0.5006\n",
      "Epoch 8/10, Loss: 1.6981, Accuracy: 0.5258\n",
      "Epoch 9/10, Loss: 1.5955, Accuracy: 0.5513\n",
      "Epoch 10/10, Loss: 1.4961, Accuracy: 0.5767\n",
      "Test Accuracy: 0.3677\n"
     ]
    },
    {
     "data": {
      "text/plain": [
       "'\\n##### BASELINE RESULTS \\n{Batch size: 64, embedding size: 100, # hidden units: 128}\\nEpoch 1/10, Loss: 2.9371, Accuracy: 0.2383\\nEpoch 2/10, Loss: 2.4960, Accuracy: 0.3377\\nEpoch 3/10, Loss: 2.2776, Accuracy: 0.3905\\nEpoch 4/10, Loss: 2.1581, Accuracy: 0.4193\\nEpoch 5/10, Loss: 2.0680, Accuracy: 0.4383\\nEpoch 6/10, Loss: 1.9899, Accuracy: 0.4558\\nEpoch 7/10, Loss: 1.9158, Accuracy: 0.4712\\nEpoch 8/10, Loss: 1.8424, Accuracy: 0.4878\\nEpoch 9/10, Loss: 1.7709, Accuracy: 0.5053\\nEpoch 10/10, Loss: 1.6987, Accuracy: 0.5246\\nTest Accuracy: 0.3857\\n0.38572602125911726\\n\\n##### Vary the batch size, the word embedding size and the number of hidden units to see their effects on the classifying performance.\\n{Batch size: 96, embedding size: 150, # hidden units: 190}\\n'"
      ]
     },
     "execution_count": 52,
     "metadata": {},
     "output_type": "execute_result"
    }
   ],
   "source": [
    "# Train LSTM model\n",
    "lstm_model = LSTMClassifier(vocab_size, embed_dim, hidden_dim, num_classes).to(device)\n",
    "optimizer = optim.Adam(lstm_model.parameters(), lr=0.001)\n",
    "train_model(lstm_model, train_loader, criterion, optimizer)\n",
    "evaluate_model(lstm_model, test_loader)"
   ]
  },
  {
   "cell_type": "raw",
   "id": "b9d4f4bd-2042-4a21-83f0-1883983629a9",
   "metadata": {},
   "source": [
    "##### BASELINE RESULTS \n",
    "{Batch size: 64, embedding size: 100, # hidden units: 128}\n",
    "Epoch 1/10, Loss: 2.9371, Accuracy: 0.2383\n",
    "Epoch 2/10, Loss: 2.4960, Accuracy: 0.3377\n",
    "Epoch 3/10, Loss: 2.2776, Accuracy: 0.3905\n",
    "Epoch 4/10, Loss: 2.1581, Accuracy: 0.4193\n",
    "Epoch 5/10, Loss: 2.0680, Accuracy: 0.4383\n",
    "Epoch 6/10, Loss: 1.9899, Accuracy: 0.4558\n",
    "Epoch 7/10, Loss: 1.9158, Accuracy: 0.4712\n",
    "Epoch 8/10, Loss: 1.8424, Accuracy: 0.4878\n",
    "Epoch 9/10, Loss: 1.7709, Accuracy: 0.5053\n",
    "Epoch 10/10, Loss: 1.6987, Accuracy: 0.5246\n",
    "Test Accuracy: 0.3857\n",
    "0.38572602125911726\n",
    "\n",
    "##### Vary the batch size, the word embedding size and the number of hidden units to see their effects on the classifying performance.\n",
    "{Batch size: 96, embedding size: 150, # hidden units: 190}\n",
    "Epoch 1/10, Loss: 2.9228, Accuracy: 0.2401\n",
    "Epoch 2/10, Loss: 2.4522, Accuracy: 0.3512\n",
    "Epoch 3/10, Loss: 2.2408, Accuracy: 0.4022\n",
    "Epoch 4/10, Loss: 2.1150, Accuracy: 0.4296\n",
    "Epoch 5/10, Loss: 2.0098, Accuracy: 0.4523\n",
    "Epoch 6/10, Loss: 1.9068, Accuracy: 0.4761\n",
    "Epoch 7/10, Loss: 1.8019, Accuracy: 0.5006\n",
    "Epoch 8/10, Loss: 1.6981, Accuracy: 0.5258\n",
    "Epoch 9/10, Loss: 1.5955, Accuracy: 0.5513\n",
    "Epoch 10/10, Loss: 1.4961, Accuracy: 0.5767\n",
    "Test Accuracy: 0.3677"
   ]
  },
  {
   "cell_type": "markdown",
   "id": "2c5c0ab9-83e7-448f-ab9f-d86f35e8506c",
   "metadata": {},
   "source": [
    "### (20 pts) For simple RNN, test bidirectional RNN and stacked RNN (with num_layers = 2). Which gives better testing accuracy?"
   ]
  },
  {
   "cell_type": "code",
   "execution_count": 53,
   "id": "08fa5bcb-00bb-4587-b38b-5d2e6c03f9b5",
   "metadata": {},
   "outputs": [],
   "source": [
    "# Define bidirectional RNN model\n",
    "class BiRNNClassifier(nn.Module):\n",
    "    def __init__(self, vocab_size, embed_dim, hidden_dim, num_classes):\n",
    "        super(BiRNNClassifier, self).__init__()\n",
    "        self.embedding = nn.Embedding(vocab_size, embed_dim)\n",
    "        self.rnn = nn.RNN(embed_dim, hidden_dim, batch_first=True, bidirectional=True)\n",
    "        self.fc = nn.Linear(hidden_dim * 2, num_classes)\n",
    "    \n",
    "    def forward(self, x):\n",
    "        x = self.embedding(x)\n",
    "        _, h = self.rnn(x)\n",
    "        h = torch.cat((h[0], h[1]), dim=1)  # Concatenate hidden states from both directions\n",
    "        return self.fc(h)\n",
    "\n",
    "# Define stacked RNN model\n",
    "class StackedRNNClassifier(nn.Module):\n",
    "    def __init__(self, vocab_size, embed_dim, hidden_dim, num_layers, num_classes):\n",
    "        super(StackedRNNClassifier, self).__init__()\n",
    "        self.embedding = nn.Embedding(vocab_size, embed_dim)\n",
    "        self.rnn = nn.RNN(embed_dim, hidden_dim, batch_first=True, num_layers=num_layers)\n",
    "        self.fc = nn.Linear(hidden_dim, num_classes)\n",
    "    \n",
    "    def forward(self, x):\n",
    "        x = self.embedding(x)\n",
    "        _, h = self.rnn(x)\n",
    "        return self.fc(h[-1])"
   ]
  },
  {
   "cell_type": "code",
   "execution_count": 54,
   "id": "b182c142-d215-41f1-b682-017737c1f610",
   "metadata": {},
   "outputs": [
    {
     "name": "stdout",
     "output_type": "stream",
     "text": [
      "Training RNN...\n",
      "Epoch 1/10, Loss: 3.3014, Accuracy: 0.1654\n",
      "Epoch 2/10, Loss: 3.2505, Accuracy: 0.1672\n",
      "Epoch 3/10, Loss: 3.2434, Accuracy: 0.1660\n",
      "Epoch 4/10, Loss: 3.2946, Accuracy: 0.1677\n",
      "Epoch 5/10, Loss: 3.2862, Accuracy: 0.1696\n",
      "Epoch 6/10, Loss: 3.2865, Accuracy: 0.1689\n",
      "Epoch 7/10, Loss: 3.2806, Accuracy: 0.1707\n",
      "Epoch 8/10, Loss: 3.2762, Accuracy: 0.1722\n",
      "Epoch 9/10, Loss: 3.2762, Accuracy: 0.1721\n",
      "Epoch 10/10, Loss: 3.2709, Accuracy: 0.1735\n",
      "Test Accuracy: 0.1635\n",
      "Training BiRNN...\n",
      "Epoch 1/10, Loss: 3.0315, Accuracy: 0.2222\n",
      "Epoch 2/10, Loss: 2.7970, Accuracy: 0.2704\n",
      "Epoch 3/10, Loss: 2.6788, Accuracy: 0.2975\n",
      "Epoch 4/10, Loss: 2.6040, Accuracy: 0.3143\n",
      "Epoch 5/10, Loss: 2.6393, Accuracy: 0.3098\n",
      "Epoch 6/10, Loss: 2.6193, Accuracy: 0.3166\n",
      "Epoch 7/10, Loss: 2.6022, Accuracy: 0.3201\n",
      "Epoch 8/10, Loss: 2.5777, Accuracy: 0.3255\n",
      "Epoch 9/10, Loss: 2.5218, Accuracy: 0.3401\n",
      "Epoch 10/10, Loss: 2.6032, Accuracy: 0.3228\n",
      "Test Accuracy: 0.3077\n",
      "Training StackedRNN...\n",
      "Epoch 1/10, Loss: 3.3067, Accuracy: 0.1637\n",
      "Epoch 2/10, Loss: 3.3002, Accuracy: 0.1659\n",
      "Epoch 3/10, Loss: 3.3001, Accuracy: 0.1649\n",
      "Epoch 4/10, Loss: 3.2983, Accuracy: 0.1653\n",
      "Epoch 5/10, Loss: 3.2939, Accuracy: 0.1646\n",
      "Epoch 6/10, Loss: 3.2918, Accuracy: 0.1632\n",
      "Epoch 7/10, Loss: 3.2905, Accuracy: 0.1631\n",
      "Epoch 8/10, Loss: 3.2908, Accuracy: 0.1642\n",
      "Epoch 9/10, Loss: 3.2883, Accuracy: 0.1650\n",
      "Epoch 10/10, Loss: 3.2860, Accuracy: 0.1649\n",
      "Test Accuracy: 0.1633\n"
     ]
    }
   ],
   "source": [
    "# Train and evaluate models\n",
    "models = {\n",
    "    \"RNN\": RNNClassifier(vocab_size, embed_dim, hidden_dim, num_classes).to(device),\n",
    "    \"BiRNN\": BiRNNClassifier(vocab_size, embed_dim, hidden_dim, num_classes).to(device),\n",
    "    \"StackedRNN\": StackedRNNClassifier(vocab_size, embed_dim, hidden_dim, 2, num_classes).to(device)\n",
    "}\n",
    "\n",
    "criterion = nn.CrossEntropyLoss()\n",
    "for name, model in models.items():\n",
    "    print(f\"Training {name}...\")\n",
    "    optimizer = optim.Adam(model.parameters(), lr=0.001)\n",
    "    train_model(model, train_loader, criterion, optimizer)\n",
    "    evaluate_model(model, test_loader)"
   ]
  },
  {
   "cell_type": "markdown",
   "id": "b72e2035-6c42-4258-8975-0c08306f6d90",
   "metadata": {},
   "source": [
    "### For LSTM, test bidirectional LSTM and stacked LSTM. Which gives better testing accuracy?"
   ]
  },
  {
   "cell_type": "code",
   "execution_count": null,
   "id": "f5e4c395-b107-4332-82ed-53e4871c2c91",
   "metadata": {},
   "outputs": [],
   "source": [
    "# V1: Define bidirectional LSTM model\n",
    "class BiLSTMClassifier(nn.Module):\n",
    "    def __init__(self, vocab_size, embed_dim, hidden_dim, num_classes):\n",
    "        super(BiLSTMClassifier, self).__init__()\n",
    "        self.embedding = nn.Embedding(vocab_size, embed_dim)\n",
    "        self.lstm = nn.LSTM(embed_dim, hidden_dim, batch_first=True, bidirectional=True)\n",
    "        self.fc = nn.Linear(hidden_dim * 2, num_classes)\n",
    "    \n",
    "    def forward(self, x):\n",
    "        x = self.embedding(x)\n",
    "        _, (h, _) = self.lstm(x)\n",
    "        h = torch.cat((h[0], h[1]), dim=1)  # Concatenate hidden states from both directions\n",
    "        return self.fc(h)\n",
    "\n",
    "# Define stacked LSTM model\n",
    "class StackedLSTMClassifier(nn.Module):\n",
    "    def __init__(self, vocab_size, embed_dim, hidden_dim, num_layers, num_classes):\n",
    "        super(StackedLSTMClassifier, self).__init__()\n",
    "        self.embedding = nn.Embedding(vocab_size, embed_dim)\n",
    "        self.lstm = nn.LSTM(embed_dim, hidden_dim, batch_first=True, num_layers=num_layers)\n",
    "        self.fc = nn.Linear(hidden_dim, num_classes)\n",
    "    \n",
    "    def forward(self, x):\n",
    "        x = self.embedding(x)\n",
    "        _, (h, _) = self.lstm(x)\n",
    "        return self.fc(h[-1])"
   ]
  },
  {
   "cell_type": "code",
   "execution_count": 55,
   "id": "b5e73943-2af3-4816-8cbe-a5bf02bf8083",
   "metadata": {},
   "outputs": [],
   "source": [
    "# V2: Define bidirectional LSTM model\n",
    "class BiLSTMClassifier(nn.Module):\n",
    "    def __init__(self, vocab_size, embed_dim, hidden_dim, num_classes, num_layers=2):\n",
    "        super(BiLSTMClassifier, self).__init__()\n",
    "        self.embedding = nn.Embedding(vocab_size, embed_dim)\n",
    "        self.lstm = nn.LSTM(embed_dim, hidden_dim, batch_first=True, bidirectional=True, num_layers=num_layers)\n",
    "        self.fc = nn.Linear(hidden_dim * 2, num_classes)\n",
    "    \n",
    "    def forward(self, x):\n",
    "        x = self.embedding(x)\n",
    "        _, (h, _) = self.lstm(x)\n",
    "        h = torch.cat((h[0], h[1]), dim=1)  # Concatenate hidden states from both directions\n",
    "        return self.fc(h)\n",
    "\n",
    "# Define stacked LSTM model\n",
    "class StackedLSTMClassifier(nn.Module):\n",
    "    def __init__(self, vocab_size, embed_dim, hidden_dim, num_classes, num_layers=2):\n",
    "        super(StackedLSTMClassifier, self).__init__()\n",
    "        self.embedding = nn.Embedding(vocab_size, embed_dim)\n",
    "        self.lstm = nn.LSTM(embed_dim, hidden_dim, batch_first=True, num_layers=2)\n",
    "        self.fc = nn.Linear(hidden_dim, num_classes)\n",
    "    \n",
    "    def forward(self, x):\n",
    "        x = self.embedding(x)\n",
    "        _, (h, _) = self.lstm(x)\n",
    "        return self.fc(h[-1])"
   ]
  },
  {
   "cell_type": "code",
   "execution_count": 56,
   "id": "8802c75e-534d-4ba1-8cfe-f42d6b913815",
   "metadata": {},
   "outputs": [
    {
     "name": "stdout",
     "output_type": "stream",
     "text": [
      "Training LSTM...\n",
      "Epoch 1/10, Loss: 2.9005, Accuracy: 0.2445\n",
      "Epoch 2/10, Loss: 2.4489, Accuracy: 0.3522\n",
      "Epoch 3/10, Loss: 2.2411, Accuracy: 0.4020\n",
      "Epoch 4/10, Loss: 2.1135, Accuracy: 0.4302\n",
      "Epoch 5/10, Loss: 2.0056, Accuracy: 0.4541\n",
      "Epoch 6/10, Loss: 1.9022, Accuracy: 0.4769\n",
      "Epoch 7/10, Loss: 1.7965, Accuracy: 0.5014\n",
      "Epoch 8/10, Loss: 1.6912, Accuracy: 0.5268\n",
      "Epoch 9/10, Loss: 1.5875, Accuracy: 0.5518\n",
      "Epoch 10/10, Loss: 1.4862, Accuracy: 0.5777\n",
      "Test Accuracy: 0.3731\n",
      "Training BiLSTM...\n",
      "Epoch 1/10, Loss: 2.7133, Accuracy: 0.2861\n",
      "Epoch 2/10, Loss: 2.3051, Accuracy: 0.3842\n",
      "Epoch 3/10, Loss: 2.1092, Accuracy: 0.4266\n",
      "Epoch 4/10, Loss: 1.9614, Accuracy: 0.4614\n",
      "Epoch 5/10, Loss: 1.8176, Accuracy: 0.4936\n",
      "Epoch 6/10, Loss: 1.6744, Accuracy: 0.5278\n",
      "Epoch 7/10, Loss: 1.5296, Accuracy: 0.5666\n",
      "Epoch 8/10, Loss: 1.3889, Accuracy: 0.6056\n",
      "Epoch 9/10, Loss: 1.2544, Accuracy: 0.6430\n",
      "Epoch 10/10, Loss: 1.1292, Accuracy: 0.6789\n",
      "Test Accuracy: 0.3609\n",
      "Training StackedLSTM...\n",
      "Epoch 1/10, Loss: 2.9506, Accuracy: 0.2286\n",
      "Epoch 2/10, Loss: 2.5980, Accuracy: 0.3108\n",
      "Epoch 3/10, Loss: 2.3608, Accuracy: 0.3725\n",
      "Epoch 4/10, Loss: 2.2100, Accuracy: 0.4074\n",
      "Epoch 5/10, Loss: 2.0904, Accuracy: 0.4334\n",
      "Epoch 6/10, Loss: 1.9760, Accuracy: 0.4604\n",
      "Epoch 7/10, Loss: 1.8658, Accuracy: 0.4854\n",
      "Epoch 8/10, Loss: 1.7524, Accuracy: 0.5142\n",
      "Epoch 9/10, Loss: 1.6477, Accuracy: 0.5410\n",
      "Epoch 10/10, Loss: 1.5484, Accuracy: 0.5653\n",
      "Test Accuracy: 0.3729\n"
     ]
    }
   ],
   "source": [
    "# Train and evaluate models\n",
    "LSTM_models = {\n",
    "    \"LSTM\": LSTMClassifier(vocab_size, embed_dim, hidden_dim, num_classes).to(device),\n",
    "    \"BiLSTM\": BiLSTMClassifier(vocab_size, embed_dim, hidden_dim, num_classes).to(device),\n",
    "    \"StackedLSTM\": StackedLSTMClassifier(vocab_size, embed_dim, hidden_dim, num_classes).to(device)\n",
    "}\n",
    "\n",
    "criterion = nn.CrossEntropyLoss()\n",
    "for name, model in LSTM_models.items():\n",
    "    print(f\"Training {name}...\")\n",
    "    optimizer = optim.Adam(model.parameters(), lr=0.001)\n",
    "    train_model(model, train_loader, criterion, optimizer)\n",
    "    evaluate_model(model, test_loader)"
   ]
  },
  {
   "cell_type": "raw",
   "id": "3270b02e-d4c5-456a-905f-9ac8e6336b54",
   "metadata": {},
   "source": [
    "Training LSTM...\n",
    "Epoch 1/10, Loss: 2.9005, Accuracy: 0.2445\n",
    "Epoch 2/10, Loss: 2.4489, Accuracy: 0.3522\n",
    "Epoch 3/10, Loss: 2.2411, Accuracy: 0.4020\n",
    "Epoch 4/10, Loss: 2.1135, Accuracy: 0.4302\n",
    "Epoch 5/10, Loss: 2.0056, Accuracy: 0.4541\n",
    "Epoch 6/10, Loss: 1.9022, Accuracy: 0.4769\n",
    "Epoch 7/10, Loss: 1.7965, Accuracy: 0.5014\n",
    "Epoch 8/10, Loss: 1.6912, Accuracy: 0.5268\n",
    "Epoch 9/10, Loss: 1.5875, Accuracy: 0.5518\n",
    "Epoch 10/10, Loss: 1.4862, Accuracy: 0.5777\n",
    "Test Accuracy: 0.3731\n",
    "Training BiLSTM...\n",
    "Epoch 1/10, Loss: 2.7133, Accuracy: 0.2861\n",
    "Epoch 2/10, Loss: 2.3051, Accuracy: 0.3842\n",
    "Epoch 3/10, Loss: 2.1092, Accuracy: 0.4266\n",
    "Epoch 4/10, Loss: 1.9614, Accuracy: 0.4614\n",
    "Epoch 5/10, Loss: 1.8176, Accuracy: 0.4936\n",
    "Epoch 6/10, Loss: 1.6744, Accuracy: 0.5278\n",
    "Epoch 7/10, Loss: 1.5296, Accuracy: 0.5666\n",
    "Epoch 8/10, Loss: 1.3889, Accuracy: 0.6056\n",
    "Epoch 9/10, Loss: 1.2544, Accuracy: 0.6430\n",
    "Epoch 10/10, Loss: 1.1292, Accuracy: 0.6789\n",
    "Test Accuracy: 0.3609\n",
    "Training StackedLSTM...\n",
    "Epoch 1/10, Loss: 2.9506, Accuracy: 0.2286\n",
    "Epoch 2/10, Loss: 2.5980, Accuracy: 0.3108\n",
    "Epoch 3/10, Loss: 2.3608, Accuracy: 0.3725\n",
    "Epoch 4/10, Loss: 2.2100, Accuracy: 0.4074\n",
    "Epoch 5/10, Loss: 2.0904, Accuracy: 0.4334\n",
    "Epoch 6/10, Loss: 1.9760, Accuracy: 0.4604\n",
    "Epoch 7/10, Loss: 1.8658, Accuracy: 0.4854\n",
    "Epoch 8/10, Loss: 1.7524, Accuracy: 0.5142\n",
    "Epoch 9/10, Loss: 1.6477, Accuracy: 0.5410\n",
    "Epoch 10/10, Loss: 1.5484, Accuracy: 0.5653\n",
    "Test Accuracy: 0.3729"
   ]
  },
  {
   "cell_type": "markdown",
   "id": "e889e565-56b4-4047-b6ee-4f67fc494899",
   "metadata": {},
   "source": [
    "## Which gives better testing accuracy?"
   ]
  },
  {
   "cell_type": "code",
   "execution_count": null,
   "id": "21018949-e637-4ad1-ad97-d07474b2f911",
   "metadata": {},
   "outputs": [],
   "source": [
    "task2_3 = {\n",
    "    'LSTM': 0.3731,\n",
    "    'BiLSTM': 0.3609,\n",
    "    'StackedLSTM': 0.3729,\n",
    "    'RNN': 0.1635,\n",
    "    'BiRNN': 0.3077,\n",
    "    'StackedRNN': 0.1633,\n",
    "}"
   ]
  },
  {
   "cell_type": "code",
   "execution_count": 62,
   "id": "8b32e22b-e274-47a3-b58a-a5e6f2d4dbf1",
   "metadata": {},
   "outputs": [
    {
     "data": {
      "image/png": "[encoded data removed]",
      "text/plain": [
       "<Figure size 640x480 with 1 Axes>"
      ]
     },
     "metadata": {},
     "output_type": "display_data"
    }
   ],
   "source": [
    "fig, ax = plt.subplots()\n",
    "\n",
    "models = ['LSTM', 'BiLSTM', 'StackedLSTM', 'RNN', 'BiRNN', 'StackedRNN']\n",
    "counts = [0.3731, 0.3609, 0.3729, 0.1635, 0.3077, 0.1633]\n",
    "tab20c = plt.color_sequences[\"tab20c\"]\n",
    "bar_colors = [tab20c[i] for i in [1, 2, 5, 6, 9, 10]]\n",
    "\n",
    "ax.bar(models, counts, label=models, color=bar_colors)\n",
    "\n",
    "ax.set_ylabel('Accuracy (%)')\n",
    "ax.set_title('Test accuracies by models')\n",
    "ax.legend(title='Models')\n",
    "\n",
    "plt.show()"
   ]
  },
  {
   "cell_type": "markdown",
   "id": "8b322703-7790-45f8-b7a7-4dd8bdbcd336",
   "metadata": {},
   "source": [
    "## Top 3 winner models!\n",
    "1. LSTM\n",
    "2. StackedLSTM\n",
    "3. BiLSTM\n",
    "# The LSTM family won!!"
   ]
  },
  {
   "cell_type": "markdown",
   "id": "0719fec0-8b64-405d-89fd-fb0db669d210",
   "metadata": {},
   "source": [
    "# The end!"
   ]
  }
 ],
 "metadata": {
  "kernelspec": {
   "display_name": "Python 3 (ipykernel)",
   "language": "python",
   "name": "python3"
  },
  "language_info": {
   "codemirror_mode": {
    "name": "ipython",
    "version": 3
   },
   "file_extension": ".py",
   "mimetype": "text/x-python",
   "name": "python",
   "nbconvert_exporter": "python",
   "pygments_lexer": "ipython3",
   "version": "3.9.21"
  }
 },
 "nbformat": 4,
 "nbformat_minor": 5
}
